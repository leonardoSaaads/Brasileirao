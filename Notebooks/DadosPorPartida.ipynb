{
 "cells": [
  {
   "cell_type": "markdown",
   "metadata": {},
   "source": [
    "# Hands-On: Dados Por Partida\n",
    "\n",
    "1º -> Deverá ser escolhido um ano. Exemplo.: 2018\n",
    "\n",
    "2º -> O link da cbf possui todos os jogos nesse período. Exemplo.:\n",
    "\n",
    "Terceiro Jogo de 2018\n",
    "https://www.cbf.com.br/futebol-brasileiro/competicoes/campeonato-brasileiro-serie-a/2018/3\n",
    "\n",
    "Décimo jogo de 2018\n",
    "https://www.cbf.com.br/futebol-brasileiro/competicoes/campeonato-brasileiro-serie-a/2018/10\n",
    "\n",
    "Vigésimo segundo jogo de 2018:\n",
    "https://www.cbf.com.br/futebol-brasileiro/competicoes/campeonato-brasileiro-serie-a/2018/10\n",
    "\n",
    "etc...\n",
    "\n",
    "Deverá ser pego todos os dados das partida e armazenados em um DataFrame."
   ]
  }
 ],
 "metadata": {
  "language_info": {
   "name": "python"
  },
  "orig_nbformat": 4
 },
 "nbformat": 4,
 "nbformat_minor": 2
}
