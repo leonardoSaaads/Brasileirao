{
 "cells": [
  {
   "cell_type": "markdown",
   "metadata": {},
   "source": [
    "# Dados por partida"
   ]
  },
  {
   "cell_type": "code",
   "execution_count": 2,
   "metadata": {},
   "outputs": [],
   "source": [
    "#importa os pacotes necessarios\n",
    "from requests import status_codes, get\n",
    "from bs4 import BeautifulSoup\n",
    "import datetime\n",
    "import pandas as pd"
   ]
  },
  {
   "cell_type": "markdown",
   "metadata": {},
   "source": [
    "Tendo como base os dados disponibilizados pela CBF, podemos escolher um ano e um jogo da temporada (como o quarto jogo, por exemplo). Com isso, seremos capazes de pegar todos os links associados aos jogos aquele ano."
   ]
  },
  {
   "cell_type": "code",
   "execution_count": 3,
   "metadata": {},
   "outputs": [
    {
     "name": "stdout",
     "output_type": "stream",
     "text": [
      "O Link do jogo é: https://www.cbf.com.br/futebol-brasileiro/competicoes/campeonato-brasileiro-serie-a/2018/4\n",
      "O link está retornando informações do site\n"
     ]
    }
   ],
   "source": [
    "# EXEMPLO\n",
    "\n",
    "# Série do campeonato brasileiro\n",
    "serie = 'A'\n",
    "# Temporada\n",
    "temporada = 2018\n",
    "# Link com a série Definida\n",
    "link = 'https://www.cbf.com.br/futebol-brasileiro/competicoes/campeonato-brasileiro-serie' + f'-{serie.lower()}/'\n",
    "#Link com o ano definido\n",
    "link += str(temporada)+'/'\n",
    "# Jogo (Quarto jogo da temporada 2018)\n",
    "jogo = 4\n",
    "# Link do quarto jogo da temporada\n",
    "link += str(jogo)\n",
    "\n",
    "# Printa o link do jogo\n",
    "print(f'O Link do jogo é: {link}')\n",
    "\n",
    "# Valida o link\n",
    "def validador(url):\n",
    "    if get(url).status_code == 200:\n",
    "        return 'está retornando informações do site'\n",
    "    else:\n",
    "        return 'não está retornando informações do site'\n",
    "\n",
    "# Testa se está funcionando corretamente\n",
    "print(f'O link {validador(link)}')\n",
    "\n",
    "# OBS: Se você mudar o valor do ano ou do jogo par aalgum valor absurdo, o validador retornar que as informações não são retornadas.\n",
    "# Experimente mudar esses valores."
   ]
  },
  {
   "cell_type": "markdown",
   "metadata": {},
   "source": [
    "### Pegando os dados da temporada vigente.\n"
   ]
  },
  {
   "cell_type": "code",
   "execution_count": 4,
   "metadata": {},
   "outputs": [
    {
     "name": "stdout",
     "output_type": "stream",
     "text": [
      "O link da Série A está retornando informações do site\n",
      "O link da Série B está retornando informações do site\n",
      "O link da Série C está retornando informações do site\n"
     ]
    }
   ],
   "source": [
    "# Temporada do ano vigente.\n",
    "temporada = datetime.datetime.now().year\n",
    "\n",
    "# Série A\n",
    "link_a = 'https://www.cbf.com.br/futebol-brasileiro/competicoes/campeonato-brasileiro-serie-a/'\n",
    "link_a += str(temporada)+'/'\n",
    "\n",
    "# Série B\n",
    "link_b = 'https://www.cbf.com.br/futebol-brasileiro/competicoes/campeonato-brasileiro-serie-b/'\n",
    "link_b += str(temporada)+'/'\n",
    "\n",
    "# Série C\n",
    "link_c = 'https://www.cbf.com.br/futebol-brasileiro/competicoes/campeonato-brasileiro-serie-c/'\n",
    "link_c += str(temporada)+'/'\n",
    "\n",
    "print(f'O link da Série A {validador(link_a)}')\n",
    "print(f'O link da Série B {validador(link_b)}')\n",
    "print(f'O link da Série C {validador(link_c)}')"
   ]
  },
  {
   "cell_type": "code",
   "execution_count": 5,
   "metadata": {},
   "outputs": [
    {
     "name": "stdout",
     "output_type": "stream",
     "text": [
      "{'serie': 'A', 'temporada': 2018, 'estadio': 'Manoel Barradas', 'cidade': 'Salvador', 'estado': 'BA', 'dia_semana': 'Sábado', 'dia_numero': 14, 'mes': ' Abril ', 'ano': 2018, 'hora': '19:00', 'mandante': 'Vitória - BA', 'visitante': 'Flamengo - RJ', 'gol_mandante': 2, 'gol_visitante': 2, 'vitoria_mandante': 0, 'vitoria_visitante': 0, 'jogo_empatado': 1, 'ponto_mandante': 1, 'ponto_visitante': 1}\n"
     ]
    }
   ],
   "source": [
    "#Cria metodo para buscar e salvas os dados requiridos\n",
    "def busca_dado_partida(link_partida):\n",
    "  # Request para o link da partida\n",
    "  req = get(link_partida)\n",
    "  # pegando os dados em HTML\n",
    "  soup = BeautifulSoup(req.text, 'html.parser')\n",
    "  # Dados da partida\n",
    "  serie = soup.find(class_ = 'color-white block').text.split('-')[1].strip().split(' ')[1]\n",
    "  temporada = int(soup.find(class_ = 'color-white block').text.split('-')[2].strip()) \n",
    "  estadio = soup.find_all(class_ = 'text-2 p-r-20')[0].text.split('-')[0].strip() \n",
    "  cidade = soup.find_all(class_ = 'text-2 p-r-20')[0].text.split('-')[1].strip()\n",
    "  estado = soup.find_all(class_ = 'text-2 p-r-20')[0].text.split('-')[2].strip()\n",
    "  dia_semana = soup.find_all(class_ = 'text-2 p-r-20')[1].text.split(',')[0].strip()\n",
    "  dia_numero = int(soup.find_all(class_ = 'text-2 p-r-20')[1].text.split(',')[1].strip().split(' ')[0])\n",
    "  mes = soup.find_all(class_ = 'text-2 p-r-20')[1].text.split(',')[1].strip().split('de')[1]\n",
    "  ano = int(soup.find_all(class_ = 'text-2 p-r-20')[1].text.split(',')[1].strip().split('de')[2]) \n",
    "  hora = soup.find_all(class_ = 'text-2 p-r-20')[2].text.strip()\n",
    "  mandante = soup.find_all(class_ = 'time-nome color-white')[0].text.strip()\n",
    "  visitante = soup.find_all(class_ = 'time-nome color-white')[1].text.strip() \n",
    "  gol_mandante = int(soup.find_all(class_ = 'time-gols block')[0].text.strip())\n",
    "  gol_visitante = int(soup.find_all(class_ = 'time-gols block')[1].text.strip())\n",
    "\n",
    "  if gol_mandante > gol_visitante:\n",
    "    vitoria_mandante = 1\n",
    "    vitoria_visitante = 0\n",
    "    jogo_empatado = 0\n",
    "    ponto_mandante = 3\n",
    "    ponto_visitante = 0\n",
    "  if gol_mandante < gol_visitante:\n",
    "    vitoria_mandante = 0\n",
    "    vitoria_visitante = 1\n",
    "    jogo_empatado = 0\n",
    "    ponto_mandante = 0\n",
    "    ponto_visitante = 3\n",
    "  if gol_mandante == gol_visitante:\n",
    "    vitoria_mandante = 0\n",
    "    vitoria_visitante = 0\n",
    "    jogo_empatado = 1\n",
    "    ponto_mandante = 1\n",
    "    ponto_visitante = 1\n",
    "\n",
    "\n",
    "  # Cria um dicionario para estruturar os dados\n",
    "  partida = {\n",
    "      'serie' : serie,\n",
    "      'temporada' : temporada,\n",
    "      'estadio' : estadio,\n",
    "      'cidade' : cidade,\n",
    "      'estado' : estado,\n",
    "      'dia_semana' : dia_semana,\n",
    "      'dia_numero' : dia_numero,\n",
    "      'mes' : mes,\n",
    "      'ano' : ano,\n",
    "      'hora' : hora,\n",
    "      'mandante' : mandante,\n",
    "      'visitante' : visitante,\n",
    "      'gol_mandante' : gol_mandante,\n",
    "      'gol_visitante' : gol_visitante,\n",
    "      'vitoria_mandante' : vitoria_mandante,\n",
    "      'vitoria_visitante' : vitoria_visitante,\n",
    "      'jogo_empatado' : jogo_empatado,\n",
    "      'ponto_mandante' : ponto_mandante,\n",
    "      'ponto_visitante' : ponto_visitante\n",
    "  }\n",
    "  # Código obtido de Marcelo Alexandre - 2021 - linkedin.com/in/marcelocristianoalexandre/\n",
    "  return(partida)\n",
    "\n",
    "# Testando a função\n",
    "print(busca_dado_partida('https://www.cbf.com.br/futebol-brasileiro/competicoes/campeonato-brasileiro-serie-a/2018/4'))"
   ]
  },
  {
   "cell_type": "markdown",
   "metadata": {},
   "source": [
    "Atualmente, cada temporada decorre entre maio e dezembro, tendo 38 rodadas com dez partidas cada, totalizando 380 partidas em toda a temporada."
   ]
  },
  {
   "cell_type": "code",
   "execution_count": 12,
   "metadata": {},
   "outputs": [
    {
     "name": "stdout",
     "output_type": "stream",
     "text": [
      "Dado Da partida 1 adicionado\n",
      "Dado Da partida 2 adicionado\n",
      "Dado Da partida 3 adicionado\n",
      "Dado Da partida 4 adicionado\n",
      "Dado Da partida 5 adicionado\n",
      "Dado Da partida 6 adicionado\n",
      "Dado Da partida 7 adicionado\n",
      "Dado Da partida 8 adicionado\n",
      "Dado Da partida 9 adicionado\n",
      "Dado Da partida 10 adicionado\n",
      "Dado Da partida 11 adicionado\n",
      "Dado Da partida 12 adicionado\n",
      "Dado Da partida 13 adicionado\n",
      "Dado Da partida 14 adicionado\n",
      "Dado Da partida 15 adicionado\n",
      "Dado Da partida 16 adicionado\n",
      "Dado Da partida 17 adicionado\n",
      "Dado Da partida 18 adicionado\n",
      "Dado Da partida 19 adicionado\n",
      "Dado Da partida 20 adicionado\n",
      "   serie  temporada                       estadio          cidade estado  \\\n",
      "0      C       2021             Arena da Amazônia          Manaus     AM   \n",
      "1      C       2021                      Domingão       Horizonte     CE   \n",
      "2      C       2021             Lindolfo Monteiro        Teresina     PI   \n",
      "3      C       2021                      Almeidão     Joao Pessoa     PB   \n",
      "4      C       2021  Antônio Guimarães de Almeida          Tombos     MG   \n",
      "5      C       2021                Jorge de Biasi  Novo Horizonte     SP   \n",
      "6      C       2021                 Arena Barueri         Barueri     SP   \n",
      "7      C       2021               Heriberto Hulse        Criciuma     SC   \n",
      "8      C       2021                    Santa Cruz  Ribeirao Preto     SP   \n",
      "9      C       2021              Colosso da Lagoa         Erechim     RS   \n",
      "10     C       2021                        Curuzu           Belem     PA   \n",
      "11     C       2021                  Elzir Cabral       Fortaleza     CE   \n",
      "12     C       2021                       Pituaçu        Salvador     BA   \n",
      "13     C       2021                        Arruda          Recife     PE   \n",
      "14     C       2021           Raulino de Oliveira   Volta Redonda     RJ   \n",
      "15     C       2021     José Maria de Campos Maia        Mirassol     SP   \n",
      "16     C       2021                Durival Britto        Curitiba     PR   \n",
      "17     C       2021             Orlando Scarpelli   Florianopolis     SC   \n",
      "18     C       2021                Novelli Junior             Itu     SP   \n",
      "19     C       2021          Francisco Novelletto    Porto Alegre     RS   \n",
      "\n",
      "   dia_semana  dia_numero      mes   ano   hora            mandante  \\\n",
      "0     Domingo          30    Maio   2021  18:00         Manaus - AM   \n",
      "1      Sábado          29    Maio   2021  15:30       Floresta - CE   \n",
      "2     Domingo          30    Maio   2021  16:00          Altos - PI   \n",
      "3      Sábado          29    Maio   2021  17:00       Botafogo - PB   \n",
      "4      Sábado          29    Maio   2021  19:00       Tombense - MG   \n",
      "5      Sábado          29    Maio   2021  16:00  Novorizontino - SP   \n",
      "6      Quarta          16   Junho   2021  16:00          Oeste - SP   \n",
      "7      Sábado          29    Maio   2021  17:00       Criciúma - SC   \n",
      "8     Domingo          30    Maio   2021  20:00       Botafogo - SP   \n",
      "9     Segunda          31    Maio   2021  20:00       Ypiranga - RS   \n",
      "10    Segunda           7   Junho   2021  20:00       Paysandu - PA   \n",
      "11     Sábado           5   Junho   2021  15:30    Ferroviário - CE   \n",
      "12    Domingo           6   Junho   2021  16:00     Jacuipense - BA   \n",
      "13     Sábado           5   Junho   2021  17:00     Santa Cruz - PE   \n",
      "14    Domingo           6   Junho   2021  16:00  Volta Redonda - RJ   \n",
      "15     Sábado           5   Junho   2021  17:00       Mirassol - SP   \n",
      "16     Sábado           5   Junho   2021  19:00         Paraná - PR   \n",
      "17     Sábado           5   Junho   2021  16:00    Figueirense - SC   \n",
      "18     Sábado           5   Junho   2021  11:00         Ituano - SP   \n",
      "19    Domingo           6   Junho   2021  18:00       São José - RS   \n",
      "\n",
      "             visitante  gol_mandante  gol_visitante  vitoria_mandante  \\\n",
      "0      Santa Cruz - PE             2              0                 1   \n",
      "1      Jacuipense - BA             2              0                 1   \n",
      "2   Volta Redonda - RJ             3              0                 1   \n",
      "3     Ferroviário - CE             0              0                 0   \n",
      "4        Paysandu - PA             1              1                 0   \n",
      "5     Figueirense - SC             1              0                 1   \n",
      "6        Mirassol - SP             0              1                 0   \n",
      "7          Ituano - SP             1              0                 1   \n",
      "8        São José - RS             1              0                 1   \n",
      "9          Paraná - PR             2              0                 1   \n",
      "10       Botafogo - PB             0              2                 0   \n",
      "11          Altos - PI             1              0                 1   \n",
      "12       Tombense - MG             1              1                 0   \n",
      "13       Floresta - CE             0              0                 0   \n",
      "14         Manaus - AM             5              0                 1   \n",
      "15       Ypiranga - RS             1              2                 0   \n",
      "16       Botafogo - SP             0              1                 0   \n",
      "17          Oeste - SP             1              0                 1   \n",
      "18  Novorizontino - SP             1              4                 0   \n",
      "19       Criciúma - SC             0              0                 0   \n",
      "\n",
      "    vitoria_visitante  jogo_empatado  ponto_mandante  ponto_visitante  \n",
      "0                   0              0               3                0  \n",
      "1                   0              0               3                0  \n",
      "2                   0              0               3                0  \n",
      "3                   0              1               1                1  \n",
      "4                   0              1               1                1  \n",
      "5                   0              0               3                0  \n",
      "6                   1              0               0                3  \n",
      "7                   0              0               3                0  \n",
      "8                   0              0               3                0  \n",
      "9                   0              0               3                0  \n",
      "10                  1              0               0                3  \n",
      "11                  0              0               3                0  \n",
      "12                  0              1               1                1  \n",
      "13                  0              1               1                1  \n",
      "14                  0              0               3                0  \n",
      "15                  1              0               0                3  \n",
      "16                  1              0               0                3  \n",
      "17                  0              0               3                0  \n",
      "18                  1              0               0                3  \n",
      "19                  0              1               1                1  \n"
     ]
    }
   ],
   "source": [
    "array_data_a = []\n",
    "array_data_b = []\n",
    "array_data_c = []\n",
    "\n",
    "# Ranfe deve ser de range(1, 381)\n",
    "for i in range(1, 21):\n",
    "    url_a = 'https://www.cbf.com.br/futebol-brasileiro/competicoes/campeonato-brasileiro-serie-a/'\n",
    "    url_b = 'https://www.cbf.com.br/futebol-brasileiro/competicoes/campeonato-brasileiro-serie-b/'\n",
    "    url_c = 'https://www.cbf.com.br/futebol-brasileiro/competicoes/campeonato-brasileiro-serie-c/'\n",
    "    url_a += f'{temporada}/{i}'\n",
    "    url_b += f'{temporada}/{i}'\n",
    "    url_c += f'{temporada}/{i}'\n",
    "    array_data_a.append(busca_dado_partida(url_a))\n",
    "    array_data_b.append(busca_dado_partida(url_b))\n",
    "    array_data_c.append(busca_dado_partida(url_c))\n",
    "\n",
    "    print(f'Dado Da partida {i} adicionado')\n",
    "\n",
    "\n",
    "DadosPartidasA = pd.DataFrame(columns=array_data_a[0].keys(), data=[data.values() for data in array_data_a])\n",
    "DadosPartidasB = pd.DataFrame(columns=array_data_b[0].keys(), data=[data.values() for data in array_data_b])\n",
    "DadosPartidasC = pd.DataFrame(columns=array_data_c[0].keys(), data=[data.values() for data in array_data_c])\n",
    "#print(DadosPartidasA)\n",
    "#print(DadosPartidasB)\n",
    "print(DadosPartidasC)"
   ]
  },
  {
   "cell_type": "markdown",
   "metadata": {},
   "source": [
    "# Hands-On: Dados Por Partida\n",
    "\n",
    "* Pegar Dados das Escalações\n",
    "* Pegar Dados da Arbitragem\n",
    "___\n",
    "\n",
    "* Montar Banco de Dados\n"
   ]
  }
 ],
 "metadata": {
  "interpreter": {
   "hash": "760892ce3164b76c03b317fa412cee1719926f6318c2a0c9ea286a3f84560ff2"
  },
  "kernelspec": {
   "display_name": "Python 3.9.0 64-bit",
   "language": "python",
   "name": "python3"
  },
  "language_info": {
   "codemirror_mode": {
    "name": "ipython",
    "version": 3
   },
   "file_extension": ".py",
   "mimetype": "text/x-python",
   "name": "python",
   "nbconvert_exporter": "python",
   "pygments_lexer": "ipython3",
   "version": "3.9.0"
  },
  "orig_nbformat": 4
 },
 "nbformat": 4,
 "nbformat_minor": 2
}
