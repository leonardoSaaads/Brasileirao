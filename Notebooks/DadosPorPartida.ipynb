{
 "cells": [
  {
   "cell_type": "markdown",
   "metadata": {},
   "source": [
    "# Dados por partida"
   ]
  },
  {
   "cell_type": "code",
   "execution_count": 1,
   "metadata": {},
   "outputs": [],
   "source": [
    "#importa os pacotes necessarios\n",
    "from requests import status_codes, get\n",
    "from bs4 import BeautifulSoup\n",
    "import datetime\n",
    "import pandas as pd"
   ]
  },
  {
   "cell_type": "markdown",
   "metadata": {},
   "source": [
    "Tendo como base os dados disponibilizados pela CBF, podemos escolher um ano e um jogo da temporada (como o quarto jogo, por exemplo). Com isso, seremos capazes de pegar todos os links associados aos jogos aquele ano."
   ]
  },
  {
   "cell_type": "code",
   "execution_count": 3,
   "metadata": {},
   "outputs": [
    {
     "name": "stdout",
     "output_type": "stream",
     "text": [
      "O Link do jogo é: https://www.cbf.com.br/futebol-brasileiro/competicoes/campeonato-brasileiro-serie-a/2018/4\n",
      "O link está retornando informações do site\n"
     ]
    }
   ],
   "source": [
    "# EXEMPLO\n",
    "\n",
    "# Série do campeonato brasileiro\n",
    "serie = 'A'\n",
    "# Temporada\n",
    "temporada = 2018\n",
    "# Link com a série Definida\n",
    "link = 'https://www.cbf.com.br/futebol-brasileiro/competicoes/campeonato-brasileiro-serie' + f'-{serie.lower()}/'\n",
    "#Link com o ano definido\n",
    "link += str(temporada)+'/'\n",
    "# Jogo (Quarto jogo da temporada 2018)\n",
    "jogo = 4\n",
    "# Link do quarto jogo da temporada\n",
    "link += str(jogo)\n",
    "\n",
    "# Printa o link do jogo\n",
    "print(f'O Link do jogo é: {link}')\n",
    "\n",
    "# Valida o link\n",
    "def validador(url):\n",
    "    if get(url).status_code == 200:\n",
    "        return 'está retornando informações do site'\n",
    "    else:\n",
    "        return 'não está retornando informações do site'\n",
    "\n",
    "# Testa se está funcionando corretamente\n",
    "print(f'O link {validador(link)}')\n",
    "\n",
    "# OBS: Se você mudar o valor do ano ou do jogo par aalgum valor absurdo, o validador retornar que as informações não são retornadas.\n",
    "# Experimente mudar esses valores."
   ]
  },
  {
   "cell_type": "markdown",
   "metadata": {},
   "source": [
    "### Pegando os dados da temporada vigente.\n"
   ]
  },
  {
   "cell_type": "code",
   "execution_count": 4,
   "metadata": {},
   "outputs": [
    {
     "name": "stdout",
     "output_type": "stream",
     "text": [
      "O link da Série A está retornando informações do site\n",
      "O link da Série B está retornando informações do site\n",
      "O link da Série C está retornando informações do site\n"
     ]
    }
   ],
   "source": [
    "# Temporada do ano vigente.\n",
    "temporada = datetime.datetime.now().year\n",
    "\n",
    "# Série A\n",
    "link_a = 'https://www.cbf.com.br/futebol-brasileiro/competicoes/campeonato-brasileiro-serie-a/'\n",
    "link_a += str(temporada)+'/'\n",
    "\n",
    "# Série B\n",
    "link_b = 'https://www.cbf.com.br/futebol-brasileiro/competicoes/campeonato-brasileiro-serie-b/'\n",
    "link_b += str(temporada)+'/'\n",
    "\n",
    "# Série C\n",
    "link_c = 'https://www.cbf.com.br/futebol-brasileiro/competicoes/campeonato-brasileiro-serie-c/'\n",
    "link_c += str(temporada)+'/'\n",
    "\n",
    "print(f'O link da Série A {validador(link_a)}')\n",
    "print(f'O link da Série B {validador(link_b)}')\n",
    "print(f'O link da Série C {validador(link_c)}')"
   ]
  },
  {
   "cell_type": "code",
   "execution_count": 5,
   "metadata": {},
   "outputs": [
    {
     "name": "stdout",
     "output_type": "stream",
     "text": [
      "{'serie': 'A', 'temporada': 2018, 'estadio': 'Manoel Barradas', 'cidade': 'Salvador', 'estado': 'BA', 'dia_semana': 'Sábado', 'dia_numero': 14, 'mes': ' Abril ', 'ano': 2018, 'hora': '19:00', 'mandante': 'Vitória - BA', 'visitante': 'Flamengo - RJ', 'gol_mandante': 2, 'gol_visitante': 2, 'vitoria_mandante': 0, 'vitoria_visitante': 0, 'jogo_empatado': 1, 'ponto_mandante': 1, 'ponto_visitante': 1}\n"
     ]
    }
   ],
   "source": [
    "#Cria metodo para buscar e salvas os dados requiridos\n",
    "def busca_dado_partida(link_partida):\n",
    "  # Request para o link da partida\n",
    "  req = get(link_partida)\n",
    "  # pegando os dados em HTML\n",
    "  soup = BeautifulSoup(req.text, 'html.parser')\n",
    "  # Dados da partida\n",
    "  serie = soup.find(class_ = 'color-white block').text.split('-')[1].strip().split(' ')[1]\n",
    "  temporada = int(soup.find(class_ = 'color-white block').text.split('-')[2].strip()) \n",
    "  estadio = soup.find_all(class_ = 'text-2 p-r-20')[0].text.split('-')[0].strip() \n",
    "  cidade = soup.find_all(class_ = 'text-2 p-r-20')[0].text.split('-')[1].strip()\n",
    "  estado = soup.find_all(class_ = 'text-2 p-r-20')[0].text.split('-')[2].strip()\n",
    "  dia_semana = soup.find_all(class_ = 'text-2 p-r-20')[1].text.split(',')[0].strip()\n",
    "  dia_numero = int(soup.find_all(class_ = 'text-2 p-r-20')[1].text.split(',')[1].strip().split(' ')[0])\n",
    "  mes = soup.find_all(class_ = 'text-2 p-r-20')[1].text.split(',')[1].strip().split('de')[1]\n",
    "  ano = int(soup.find_all(class_ = 'text-2 p-r-20')[1].text.split(',')[1].strip().split('de')[2]) \n",
    "  hora = soup.find_all(class_ = 'text-2 p-r-20')[2].text.strip()\n",
    "  mandante = soup.find_all(class_ = 'time-nome color-white')[0].text.strip()\n",
    "  visitante = soup.find_all(class_ = 'time-nome color-white')[1].text.strip() \n",
    "  gol_mandante = int(soup.find_all(class_ = 'time-gols block')[0].text.strip())\n",
    "  gol_visitante = int(soup.find_all(class_ = 'time-gols block')[1].text.strip())\n",
    "\n",
    "  if gol_mandante > gol_visitante:\n",
    "    vitoria_mandante = 1\n",
    "    vitoria_visitante = 0\n",
    "    jogo_empatado = 0\n",
    "    ponto_mandante = 3\n",
    "    ponto_visitante = 0\n",
    "  if gol_mandante < gol_visitante:\n",
    "    vitoria_mandante = 0\n",
    "    vitoria_visitante = 1\n",
    "    jogo_empatado = 0\n",
    "    ponto_mandante = 0\n",
    "    ponto_visitante = 3\n",
    "  if gol_mandante == gol_visitante:\n",
    "    vitoria_mandante = 0\n",
    "    vitoria_visitante = 0\n",
    "    jogo_empatado = 1\n",
    "    ponto_mandante = 1\n",
    "    ponto_visitante = 1\n",
    "\n",
    "\n",
    "  # Cria um dicionario para estruturar os dados\n",
    "  partida = {\n",
    "      'serie' : serie,\n",
    "      'temporada' : temporada,\n",
    "      'estadio' : estadio,\n",
    "      'cidade' : cidade,\n",
    "      'estado' : estado,\n",
    "      'dia_semana' : dia_semana,\n",
    "      'dia_numero' : dia_numero,\n",
    "      'mes' : mes,\n",
    "      'ano' : ano,\n",
    "      'hora' : hora,\n",
    "      'mandante' : mandante,\n",
    "      'visitante' : visitante,\n",
    "      'gol_mandante' : gol_mandante,\n",
    "      'gol_visitante' : gol_visitante,\n",
    "      'vitoria_mandante' : vitoria_mandante,\n",
    "      'vitoria_visitante' : vitoria_visitante,\n",
    "      'jogo_empatado' : jogo_empatado,\n",
    "      'ponto_mandante' : ponto_mandante,\n",
    "      'ponto_visitante' : ponto_visitante\n",
    "  }\n",
    "  # Código obtido de Marcelo Alexandre - 2021 - linkedin.com/in/marcelocristianoalexandre/\n",
    "  return(partida)\n",
    "\n",
    "# Testando a função\n",
    "print(busca_dado_partida('https://www.cbf.com.br/futebol-brasileiro/competicoes/campeonato-brasileiro-serie-a/2018/4'))"
   ]
  },
  {
   "cell_type": "markdown",
   "metadata": {},
   "source": [
    "# Hands-On: Dados Por Partida\n",
    "\n",
    "* Pegar Dados das Escalações\n",
    "* Pegar Dados da Arbitragem\n",
    "___\n",
    "\n",
    "* Montar Banco de Dados\n"
   ]
  }
 ],
 "metadata": {
  "interpreter": {
   "hash": "760892ce3164b76c03b317fa412cee1719926f6318c2a0c9ea286a3f84560ff2"
  },
  "kernelspec": {
   "display_name": "Python 3.9.0 64-bit",
   "language": "python",
   "name": "python3"
  },
  "language_info": {
   "codemirror_mode": {
    "name": "ipython",
    "version": 3
   },
   "file_extension": ".py",
   "mimetype": "text/x-python",
   "name": "python",
   "nbconvert_exporter": "python",
   "pygments_lexer": "ipython3",
   "version": "3.9.0"
  },
  "orig_nbformat": 4
 },
 "nbformat": 4,
 "nbformat_minor": 2
}
