{
 "cells": [
  {
   "cell_type": "markdown",
   "metadata": {},
   "source": [
    "# Automatização das Postagens "
   ]
  },
  {
   "cell_type": "code",
   "execution_count": 8,
   "metadata": {},
   "outputs": [],
   "source": [
    "# Importando bibliotecas padrão\n",
    "import matplotlib.image as mpimg\n",
    "import matplotlib.pyplot as plt\n"
   ]
  },
  {
   "cell_type": "code",
   "execution_count": 14,
   "metadata": {},
   "outputs": [],
   "source": [
    "# Lendo as imagens\n",
    "imagem_serie_a = mpimg.imread('../IMAG/PublicacoesRedesSociais/DisputaSerieA.png')\n",
    "imagem_serie_b = mpimg.imread('../IMAG/PublicacoesRedesSociais/DisputaSerieB.png')\n",
    "imagem_serie_c = mpimg.imread('../IMAG/PublicacoesRedesSociais/DisputaSerieC.png')\n",
    "\n",
    "# Times Desafiantes\n",
    "timeA = mpimg.imread('../IMAG/Escudos/Flamengo.png')\n",
    "timeB = mpimg.imread('../IMAG/Escudos/Cuiaba.png')"
   ]
  },
  {
   "cell_type": "markdown",
   "metadata": {},
   "source": [
    "# Hands-On: \n",
    "\n",
    "### 1º -> Colocar o ``timeA`` & ``timeB`` nas  no local adequado para os brasões.\n",
    "\n",
    "### 2º -> Conseguir alterar o ``timeA`` e o ``timeB`` para outro time com base em seu nome.\n",
    "\n",
    "### 3º -> Conseguir escolher entre``imagem_serie_a, imagem_serie_b , imagem_serie_c`` com base nos times em disputa\n",
    "\n",
    "### 4º -> Automatizar uma mensagem dizendo \"Processo Concluido com Sucesso\" Caso tudo seja feito corretamente."
   ]
  }
 ],
 "metadata": {
  "interpreter": {
   "hash": "760892ce3164b76c03b317fa412cee1719926f6318c2a0c9ea286a3f84560ff2"
  },
  "kernelspec": {
   "display_name": "Python 3.9.0 64-bit",
   "language": "python",
   "name": "python3"
  },
  "language_info": {
   "codemirror_mode": {
    "name": "ipython",
    "version": 3
   },
   "file_extension": ".py",
   "mimetype": "text/x-python",
   "name": "python",
   "nbconvert_exporter": "python",
   "pygments_lexer": "ipython3",
   "version": "3.9.0"
  },
  "orig_nbformat": 4
 },
 "nbformat": 4,
 "nbformat_minor": 2
}
